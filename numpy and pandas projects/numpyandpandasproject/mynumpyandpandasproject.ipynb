{
 "cells": [
  {
   "cell_type": "code",
   "execution_count": 1,
   "id": "811b6ebd-adab-414f-8cde-e843d323eaa4",
   "metadata": {},
   "outputs": [
    {
     "name": "stdout",
     "output_type": "stream",
     "text": [
      "1\n"
     ]
    }
   ],
   "source": [
    "import numpy as np\n",
    "list=[1,2,3,4,5]\n",
    "print (list[0])"
   ]
  },
  {
   "cell_type": "code",
   "execution_count": 2,
   "id": "f1254f8f-3e6d-4d75-87d9-37dbefe4933c",
   "metadata": {},
   "outputs": [
    {
     "name": "stdout",
     "output_type": "stream",
     "text": [
      "john elder\n",
      "the best\n"
     ]
    }
   ],
   "source": [
    "testsuperlist=[\"john elder\",True,2.5,1,5,8,True,False,\"the best\"]\n",
    "for element in testsuperlist:\n",
    " if isinstance(element, str):\n",
    "  print(element)"
   ]
  },
  {
   "cell_type": "code",
   "execution_count": 3,
   "id": "eac7b35b-ac6f-4044-bd03-718df5701d6c",
   "metadata": {},
   "outputs": [
    {
     "name": "stdout",
     "output_type": "stream",
     "text": [
      "[0 1 2 3 4 6 5 7 8 9]\n",
      "(10,)\n"
     ]
    }
   ],
   "source": [
    "np1=np.array([0,1,2,3,4,6,5,7,8,9])\n",
    "print(np1)\n",
    "print(np1.shape)"
   ]
  },
  {
   "cell_type": "code",
   "execution_count": 4,
   "id": "052c4739-e91d-4aa8-8090-48d0234047ff",
   "metadata": {},
   "outputs": [
    {
     "name": "stdout",
     "output_type": "stream",
     "text": [
      "[0 1 2 3 4 5 6 7 8 9]\n"
     ]
    }
   ],
   "source": [
    "np2=np.arange(10)\n",
    "print(np2)"
   ]
  },
  {
   "cell_type": "code",
   "execution_count": 5,
   "id": "8bc174cd-c18a-42d9-bbec-422b3c125bd8",
   "metadata": {},
   "outputs": [
    {
     "name": "stdout",
     "output_type": "stream",
     "text": [
      "[0 2 4 5 8]\n"
     ]
    }
   ],
   "source": [
    "np3=np.array(np1[::2])\n",
    "print(np3)"
   ]
  },
  {
   "cell_type": "code",
   "execution_count": 6,
   "id": "81e0f3ca-491d-4355-a6e3-3b5e7e91b7f4",
   "metadata": {},
   "outputs": [
    {
     "name": "stdout",
     "output_type": "stream",
     "text": [
      "[0. 0. 0. 0. 0.]\n"
     ]
    }
   ],
   "source": [
    "import numpy as np\n",
    "np4=np.zeros(5)\n",
    "print(np4)"
   ]
  },
  {
   "cell_type": "code",
   "execution_count": 7,
   "id": "54418baa",
   "metadata": {},
   "outputs": [
    {
     "name": "stdout",
     "output_type": "stream",
     "text": [
      "[[0. 0. 0. 0.]\n",
      " [0. 0. 0. 0.]]\n"
     ]
    }
   ],
   "source": [
    "np5=np.zeros((2,4))\n",
    "print(np5)"
   ]
  },
  {
   "cell_type": "code",
   "execution_count": 8,
   "id": "052c3f97",
   "metadata": {},
   "outputs": [
    {
     "name": "stdout",
     "output_type": "stream",
     "text": [
      "[8 8 8 8 8]\n"
     ]
    }
   ],
   "source": [
    "np6=np.full((5),8)\n",
    "print(np6)\n",
    "\n"
   ]
  },
  {
   "cell_type": "code",
   "execution_count": 9,
   "id": "e06c598f",
   "metadata": {},
   "outputs": [
    {
     "name": "stdout",
     "output_type": "stream",
     "text": [
      "[[8 8]\n",
      " [8 8]\n",
      " [8 8]\n",
      " [8 8]\n",
      " [8 8]]\n"
     ]
    }
   ],
   "source": [
    "np7=np.full((5,2),8)\n",
    "print(np7)"
   ]
  },
  {
   "cell_type": "code",
   "execution_count": 10,
   "id": "8238e26d",
   "metadata": {},
   "outputs": [
    {
     "name": "stdout",
     "output_type": "stream",
     "text": [
      "[1 2 3 4 5]\n",
      "2\n"
     ]
    }
   ],
   "source": [
    "my_list=[1,2,3,4,5]\n",
    "np8=np.array(my_list)\n",
    "print(np8) \n",
    "\n",
    "print(my_list[1])"
   ]
  },
  {
   "cell_type": "code",
   "execution_count": 11,
   "id": "3dafdeec",
   "metadata": {},
   "outputs": [
    {
     "name": "stdout",
     "output_type": "stream",
     "text": [
      "[2 3 4 5]\n"
     ]
    }
   ],
   "source": [
    "np1=np.array([1,2,3,4,5,6,7,8,9,9])\n",
    "print(np1[1:5])"
   ]
  },
  {
   "cell_type": "code",
   "execution_count": 12,
   "id": "2b3d39ae",
   "metadata": {},
   "outputs": [
    {
     "name": "stdout",
     "output_type": "stream",
     "text": [
      "[3 4 5 6 7 8 9 9]\n",
      "[1 2 3 4 5 6 7 8]\n",
      "[8 9]\n"
     ]
    }
   ],
   "source": [
    "print(np1[2:])\n",
    "print(np1[:-2])\n",
    "print(np1[-3:-1])"
   ]
  },
  {
   "cell_type": "code",
   "execution_count": 13,
   "id": "24cd24dc",
   "metadata": {},
   "outputs": [
    {
     "name": "stdout",
     "output_type": "stream",
     "text": [
      "[2 3 4 5]\n",
      "[2 4]\n",
      "[1 3 5 7 9]\n"
     ]
    }
   ],
   "source": [
    "print(np1[1:5])\n",
    "print(np1[1:5:2])\n",
    "print(np1[::2])"
   ]
  },
  {
   "cell_type": "code",
   "execution_count": 14,
   "metadata": {},
   "outputs": [
    {
     "name": "stdout",
     "output_type": "stream",
     "text": [
      "8\n",
      "2\n",
      "[[2 3]]\n",
      "[[2 3]\n",
      " [7 8]]\n"
     ]
    }
   ],
   "source": [
    "import numpy as np\n",
    "np2=np.array([[1,2,3,4,5],[6,7,8,9,10]])\n",
    "print(np2[1,2])\n",
    "print(np2[0,1])\n",
    "print(np2[0:1,1:3])\n",
    "print(np2[0:2,1:3])\n"
   ]
  },
  {
   "cell_type": "code",
   "execution_count": 15,
   "id": "4a169f23",
   "metadata": {},
   "outputs": [
    {
     "name": "stdout",
     "output_type": "stream",
     "text": [
      "[       nan        nan        nan 0.         1.         1.41421356\n",
      " 1.73205081 2.         2.23606798 2.44948974 2.64575131 2.82842712\n",
      " 3.        ]\n"
     ]
    },
    {
     "name": "stderr",
     "output_type": "stream",
     "text": [
      "C:\\Users\\HerMajesty\\AppData\\Local\\Temp\\ipykernel_4740\\3335893409.py:2: RuntimeWarning: invalid value encountered in sqrt\n",
      "  print(np.sqrt(np1))\n"
     ]
    }
   ],
   "source": [
    "np1=[-3,-2,-1,0,1,2,3,4,5,6,7,8,9]\n",
    "print(np.sqrt(np1))"
   ]
  },
  {
   "cell_type": "code",
   "execution_count": 16,
   "id": "35f745ef",
   "metadata": {},
   "outputs": [
    {
     "name": "stdout",
     "output_type": "stream",
     "text": [
      "[3 2 1 0 1 2 3 4 5 6 7 8 9]\n"
     ]
    }
   ],
   "source": [
    "print(np.absolute(np1))"
   ]
  },
  {
   "cell_type": "code",
   "execution_count": 17,
   "id": "324e5797",
   "metadata": {},
   "outputs": [
    {
     "name": "stdout",
     "output_type": "stream",
     "text": [
      "[4.97870684e-02 1.35335283e-01 3.67879441e-01 1.00000000e+00\n",
      " 2.71828183e+00 7.38905610e+00 2.00855369e+01 5.45981500e+01\n",
      " 1.48413159e+02 4.03428793e+02 1.09663316e+03 2.98095799e+03\n",
      " 8.10308393e+03]\n"
     ]
    }
   ],
   "source": [
    "print(np.exp(np1))"
   ]
  },
  {
   "cell_type": "code",
   "execution_count": 18,
   "id": "6b9d1eae",
   "metadata": {},
   "outputs": [
    {
     "name": "stdout",
     "output_type": "stream",
     "text": [
      "-3\n",
      "9\n"
     ]
    }
   ],
   "source": [
    "print(np.min(np1))\n",
    "print(np.max(np1))"
   ]
  },
  {
   "cell_type": "code",
   "execution_count": 19,
   "id": "d5703d7d",
   "metadata": {},
   "outputs": [
    {
     "name": "stdout",
     "output_type": "stream",
     "text": [
      "[-1 -1 -1  0  1  1  1  1  1  1  1  1  1]\n"
     ]
    }
   ],
   "source": [
    "print(np.sign(np1))"
   ]
  },
  {
   "cell_type": "code",
   "execution_count": 20,
   "id": "b535cce2",
   "metadata": {},
   "outputs": [
    {
     "name": "stdout",
     "output_type": "stream",
     "text": [
      "[-0.14112001 -0.90929743 -0.84147098  0.          0.84147098  0.90929743\n",
      "  0.14112001 -0.7568025  -0.95892427 -0.2794155   0.6569866   0.98935825\n",
      "  0.41211849]\n",
      "[-0.9899925  -0.41614684  0.54030231  1.          0.54030231 -0.41614684\n",
      " -0.9899925  -0.65364362  0.28366219  0.96017029  0.75390225 -0.14550003\n",
      " -0.91113026]\n"
     ]
    }
   ],
   "source": [
    "print(np.sin(np1))\n",
    "print(np.cos(np1))"
   ]
  },
  {
   "cell_type": "code",
   "execution_count": 21,
   "metadata": {},
   "outputs": [
    {
     "name": "stdout",
     "output_type": "stream",
     "text": [
      "Original NP1[0 1 2 3 4 5]\n",
      "Original NP2[0 1 2 3 4 5]\n",
      "Changed NP1[41  1  2  3  4  5]\n",
      "Original NP2[41  1  2  3  4  5]\n"
     ]
    }
   ],
   "source": [
    "#create view and copy\n",
    "\n",
    "np1=np.array([0,1,2,3,4,5])\n",
    "#1 create a view(it will reflect to the original )\n",
    "np2=np1.view()\n",
    "print(f'Original NP1{np1}')\n",
    "print(f'Original NP2{np2}')\n",
    "\n",
    "np1[0]=41\n",
    "print(f'Changed NP1{np1}')\n",
    "print(f'Original NP2{np2}')\n",
    "\n",
    "\n"
   ]
  },
  {
   "cell_type": "code",
   "execution_count": 22,
   "id": "ce2c8f35",
   "metadata": {},
   "outputs": [
    {
     "name": "stdout",
     "output_type": "stream",
     "text": [
      "Original NP1[0 1 2 3 4 5]\n",
      "Original NP2[0 1 2 3 4 5]\n",
      "Changed NP1[0 1 2 3 4 5]\n",
      "Original NP2[41  1  2  3  4  5]\n"
     ]
    }
   ],
   "source": [
    "#2 create a copy(the results didn't updated,it's just a copy)\n",
    "import numpy as np\n",
    "np1=np.array([0,1,2,3,4,5])\n",
    "\n",
    "np2=np1.copy()\n",
    "print(f'Original NP1{np1}')\n",
    "print(f'Original NP2{np2}')\n",
    "\n",
    "np2[0]=41 #here you can write \"np1[0]=41\" and see the result\n",
    "print(f'Changed NP1{np1}')\n",
    "print(f'Original NP2{np2}')"
   ]
  },
  {
   "cell_type": "code",
   "execution_count": 23,
   "id": "fbd20973",
   "metadata": {},
   "outputs": [
    {
     "name": "stdout",
     "output_type": "stream",
     "text": [
      "[ 0  1  2  3  4  5  6  7  8  9 10 11 12 13 15 16 17 18 19 20 21 22 23 24\n",
      " 25 26 27]\n",
      "(27,)\n"
     ]
    }
   ],
   "source": [
    "import numpy as np\n",
    "np1=np.array([0,1,2,3,4,5,6,7,8,9,10,11,12,13,15,16,17,18,19,20,21,22,23,24,25,26,27])\n",
    "print(np1)\n",
    "print(np1.shape)"
   ]
  },
  {
   "cell_type": "code",
   "execution_count": 24,
   "id": "71a386a5",
   "metadata": {},
   "outputs": [
    {
     "name": "stdout",
     "output_type": "stream",
     "text": [
      "[[ 1  2  3  4  5  6]\n",
      " [ 7  8  9 10 11 12]]\n",
      "(2, 6)\n"
     ]
    }
   ],
   "source": [
    "np2=np.array([[1,2,3,4,5,6],[7,8,9,10,11,12]])\n",
    "print(np2)\n",
    "print(np2.shape)\n"
   ]
  },
  {
   "cell_type": "code",
   "execution_count": 25,
   "id": "1ea7bb61",
   "metadata": {},
   "outputs": [
    {
     "name": "stdout",
     "output_type": "stream",
     "text": [
      "[[[ 1  2]\n",
      "  [ 3  4]\n",
      "  [ 5  6]]\n",
      "\n",
      " [[ 7  8]\n",
      "  [ 9 10]\n",
      "  [11 12]]]\n",
      "(2, 3, 2)\n"
     ]
    }
   ],
   "source": [
    "np3=np2.reshape(2,3,2)\n",
    "print(np3)\n",
    "print(np3.shape)"
   ]
  },
  {
   "cell_type": "code",
   "execution_count": 28,
   "id": "386a787d",
   "metadata": {},
   "outputs": [
    {
     "name": "stdout",
     "output_type": "stream",
     "text": [
      "1\n",
      "2\n",
      "3\n",
      "4\n",
      "5\n",
      "6\n",
      "7\n",
      "8\n",
      "9\n",
      "10\n"
     ]
    }
   ],
   "source": [
    "np1=np.array([1,2,3,4,5,6,7,8,9,10])\n",
    "\n",
    "for x in np1:\n",
    "    print(x)"
   ]
  },
  {
   "cell_type": "code",
   "execution_count": 29,
   "metadata": {},
   "outputs": [
    {
     "name": "stdout",
     "output_type": "stream",
     "text": [
      "[1 2 3 4 5]\n",
      "[ 6  7  8  9 10]\n"
     ]
    }
   ],
   "source": [
    "np2=np.array([[1,2,3,4,5],[6,7,8,9,10]])\n",
    "\n",
    "for x in np2:\n",
    "    print(x)\n"
   ]
  },
  {
   "cell_type": "code",
   "execution_count": 30,
   "id": "16e0c3c1",
   "metadata": {},
   "outputs": [
    {
     "name": "stdout",
     "output_type": "stream",
     "text": [
      "6\n",
      "7\n",
      "8\n",
      "9\n",
      "10\n"
     ]
    }
   ],
   "source": [
    "for y in x:\n",
    "    print(y)"
   ]
  }
 ],
 "metadata": {
  "kernelspec": {
   "display_name": "Python 3 (ipykernel)",
   "language": "python",
   "name": "python3"
  },
  "language_info": {
   "codemirror_mode": {
    "name": "ipython",
    "version": 3
   },
   "file_extension": ".py",
   "mimetype": "text/x-python",
   "name": "python",
   "nbconvert_exporter": "python",
   "pygments_lexer": "ipython3",
   "version": "3.11.5"
  }
 },
 "nbformat": 4,
 "nbformat_minor": 5
}
